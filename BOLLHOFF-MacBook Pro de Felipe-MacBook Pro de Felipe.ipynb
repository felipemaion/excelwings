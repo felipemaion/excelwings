{
 "cells": [
  {
   "cell_type": "code",
   "execution_count": 1,
   "metadata": {},
   "outputs": [],
   "source": [
    "import requests\n",
    "from bs4 import BeautifulSoup\n",
    "import pandas as pd\n",
    "import xlwings as xw\n",
    "import unicodedata"
   ]
  },
  {
   "cell_type": "code",
   "execution_count": 2,
   "metadata": {},
   "outputs": [],
   "source": [
    "\n",
    "\n",
    "class App():\n",
    "    def __init__(self):\n",
    "        self.cont = 0\n",
    "        self.page = requests.get(\"https://www.autoo.com.br/emplacamentos/veiculos-mais-vendidos/2021/\")\n",
    "        self.dados = []#colunas brutas, com itens separados de forma unilateral(em forma de linhas)\n",
    "        self.frame = pd.DataFrame()\n",
    "\n",
    "    def buscar(self):\n",
    "        soup = BeautifulSoup(self.page.content)#.decode(\"utf-8\", \"ignore\"), \"html.parser\")\n",
    "#         soup = soup.prettify(formatter=lambda s: s.replace(u'\\xa0', ' '))\n",
    "#         print(soup)\n",
    "        tabela = soup.find(\"table\", id=\"example\")#tabelas\n",
    "        \n",
    "        colunas = tabela.find_all(\"tr\")#itens das tabelas\n",
    "#         print(colunas)\n",
    "        for coluna in colunas:\n",
    "#             print(coluna)\n",
    "            if self.cont >= 1:#Pular primeira linha([\"Posição, \"Veículo\", \"Jan\", \"Fev\"...etc])\n",
    "                self.dados.append([item.replace(\".\", \"\") for item in coluna.text.split(\"\\n\")])\n",
    "            else:\n",
    "                pass\n",
    "            self.cont += 1\n",
    "        return self.toDataFrame()\n",
    "\n",
    "    def __str__(self):#Organização na tabela, os itens vazios não foram retirados, por isso os índices são altos\n",
    "        return self.frame\n",
    "\n",
    "    def toDataFrame(self):\n",
    "#         print(self.dados[0][7].split(\"\\xa0\")[1:])\n",
    "#         print([veic[7].split(\"\\xa0\")[1:] for veic in self.dados])\n",
    "        self.frame = pd.DataFrame({\n",
    "            \"OEM\":[oem[7].split(\"\\xa0\")[0] for oem in self.dados],\n",
    "            \"Veículo\":[veic[7].split(\"\\xa0\")[1] for veic in self.dados], \n",
    "            \"Jan\":[int(mes[10] or 0) for mes in self.dados],\n",
    "            \"Fev\":[int(mes[11] or 0) for mes in self.dados],\n",
    "            \"Mar\":[int(mes[12] or 0) for mes in self.dados],\n",
    "            \"Abr\":[int(mes[13] or 0) for mes in self.dados],\n",
    "            \"Mai\":[int(mes[14] or 0) for mes in self.dados],\n",
    "            \"Jun\":[int(mes[15] or 0) for mes in self.dados],\n",
    "            \"Jul\":[int(mes[16] or 0) for mes in self.dados],\n",
    "            \"Ago\":[int(mes[17] or 0) for mes in self.dados],\n",
    "            \"Set\":[int(mes[18] or 0) for mes in self.dados],\n",
    "            \"Out\":[int(mes[19] or 0) for mes in self.dados],\n",
    "            \"Nov\":[int(mes[20] or 0) for mes in self.dados],\n",
    "            \"Dez\":[int(mes[21] or 0) for mes in self.dados],\n",
    "            \"Total\":[int(mes[23] or 0) for mes in self.dados]})\n",
    "\n",
    "    def toExcel(self):\n",
    "        self.frame.to_excel(\"output.xls\")\n",
    "    def toMyProjects(self):\n",
    "        current = xw.apps.keys()\n",
    "        app = xw.apps[current[0]].books['myproject.xlsm']\n",
    "        sht = xw.sheets['emplacamentos']\n",
    "        sht.range('A1').value = self.frame\n",
    "scrapp = App()\n",
    "scrapp.buscar()\n",
    "scrapp.toExcel()\n"
   ]
  },
  {
   "cell_type": "code",
   "execution_count": 3,
   "metadata": {},
   "outputs": [],
   "source": [
    "scrapp.toExcel()"
   ]
  },
  {
   "cell_type": "code",
   "execution_count": null,
   "metadata": {},
   "outputs": [],
   "source": [
    "current = xw.apps.keys() # //*[@id=\"example\"]/tbody/tr[1]/td[2]/a/span[2]"
   ]
  },
  {
   "cell_type": "code",
   "execution_count": null,
   "metadata": {},
   "outputs": [],
   "source": [
    "sht = xw.apps[current[0]].books['myproject.xlsm'].sheets['emplacamentos']"
   ]
  },
  {
   "cell_type": "code",
   "execution_count": null,
   "metadata": {},
   "outputs": [],
   "source": [
    "#scrapp.dados"
   ]
  },
  {
   "cell_type": "code",
   "execution_count": null,
   "metadata": {},
   "outputs": [],
   "source": [
    "conda install xlwings"
   ]
  },
  {
   "cell_type": "markdown",
   "metadata": {},
   "source": [
    "<h1>SLIDE RICARDO</h1>"
   ]
  },
  {
   "cell_type": "code",
   "execution_count": null,
   "metadata": {},
   "outputs": [],
   "source": [
    "#app = xw.App()"
   ]
  },
  {
   "cell_type": "code",
   "execution_count": null,
   "metadata": {},
   "outputs": [],
   "source": [
    "import pandas as pd\n",
    "import xlwings as xw"
   ]
  },
  {
   "cell_type": "code",
   "execution_count": null,
   "metadata": {},
   "outputs": [],
   "source": [
    "current = xw.apps.keys()"
   ]
  },
  {
   "cell_type": "code",
   "execution_count": null,
   "metadata": {},
   "outputs": [],
   "source": [
    "xw.apps[current[0]].books"
   ]
  },
  {
   "cell_type": "code",
   "execution_count": null,
   "metadata": {},
   "outputs": [],
   "source": [
    "pjApp = xw.apps[current[0]].books[\"DESENVOLVIMENTO APLICACOES 2020 PEDULLA.xls\"]"
   ]
  },
  {
   "cell_type": "code",
   "execution_count": null,
   "metadata": {},
   "outputs": [],
   "source": [
    "slide = pjApp.sheets['SLIDE']"
   ]
  },
  {
   "cell_type": "code",
   "execution_count": null,
   "metadata": {},
   "outputs": [],
   "source": [
    "pj = pjApp.sheets['PROJETOS 2020']"
   ]
  },
  {
   "cell_type": "code",
   "execution_count": null,
   "metadata": {},
   "outputs": [],
   "source": [
    "tabelaProjetos = pj.range('A39').options(pd.DataFrame, expand='table').value"
   ]
  },
  {
   "cell_type": "code",
   "execution_count": null,
   "metadata": {},
   "outputs": [],
   "source": [
    "tabelaProjetos\n",
    "#segmento = tabelaProjetos[tabelaProjetos['Segmento']=='OEM']\n",
    "#tabelaProjetos = tabelaProjetos[tabelaProjetos['Segmento'] != 'Export']"
   ]
  },
  {
   "cell_type": "code",
   "execution_count": null,
   "metadata": {},
   "outputs": [],
   "source": [
    "fat = tabelaProjetos[tabelaProjetos['Div']=='FAT']\n",
    "fss = tabelaProjetos[tabelaProjetos['Div']=='FSS']\n",
    "total = tabelaProjetos[:]"
   ]
  },
  {
   "cell_type": "code",
   "execution_count": null,
   "metadata": {},
   "outputs": [],
   "source": [
    "fatNomeados = fat[fat['NominatedThisYear?']==1]\n",
    "fssNomeados = fss[fss['NominatedThisYear?']==1]\n",
    "totalNomeados = total[total['NominatedThisYear?']==1]"
   ]
  },
  {
   "cell_type": "code",
   "execution_count": null,
   "metadata": {},
   "outputs": [],
   "source": [
    "fatAprovados = fat[fat['Pos']=='Aprov']\n",
    "fssAprovados = fss[fss['Pos']=='Aprov']\n",
    "totalAprovados = total[total['Pos']=='Aprov']"
   ]
  },
  {
   "cell_type": "code",
   "execution_count": null,
   "metadata": {},
   "outputs": [],
   "source": [
    "fatCondicional = fat[fat['Pos']=='A. Cond']\n",
    "fssCondicional = fss[fss['Pos']=='A. Cond']\n",
    "totalCondicional = total[total['Pos']=='A. Cond']"
   ]
  },
  {
   "cell_type": "code",
   "execution_count": null,
   "metadata": {},
   "outputs": [],
   "source": [
    "fatDesenvolvimento = fat[fat['Pos']=='Desen']\n",
    "fssDesenvolvimento = fss[fss['Pos']=='Desen']\n",
    "totalDesenvolvimento = total[total['Pos']=='Desen']"
   ]
  },
  {
   "cell_type": "code",
   "execution_count": null,
   "metadata": {},
   "outputs": [],
   "source": [
    "fatPerdidos = fat[fat['Pos']=='Perd']\n",
    "fssPerdidos = fss[fss['Pos']=='Perd']\n",
    "totalPerdidos = total[total['Pos']=='Perd']"
   ]
  },
  {
   "cell_type": "code",
   "execution_count": null,
   "metadata": {},
   "outputs": [],
   "source": [
    "fatNumeroProjetos = {'nomeados':len(fatNomeados),'aprovados':len(fatAprovados),'condicional':len(fatCondicional),'desenvolvimento':len(fatDesenvolvimento),'perdidos':len(fatPerdidos)}\n",
    "fatVolumeProjetos = {'nomeados':fatNomeados['TPcs ano'].sum(),'aprovados':fatAprovados['TPcs ano'].sum(),'condicional':fatCondicional['TPcs ano'].sum(),'desenvolvimento':fatDesenvolvimento['TPcs ano'].sum(),'perdidos':fatPerdidos['TPcs ano'].sum()}\n",
    "fatFaturamentoProjetos = {'nomeados':fatNomeados['TR$ ano'].sum(),'aprovados':fatAprovados['TR$ ano'].sum(),'condicional':fatCondicional['TR$ ano'].sum(),'desenvolvimento':fatDesenvolvimento['TR$ ano'].sum(),'perdidos':fatPerdidos['TR$ ano'].sum()}\n",
    "\n",
    "fssNumeroProjetos = {'nomeados':len(fssNomeados),'aprovados':len(fssAprovados),'condicional':len(fssCondicional),'desenvolvimento':len(fssDesenvolvimento),'perdidos':len(fssPerdidos)}\n",
    "fssVolumeProjetos = {'nomeados':fssNomeados['TPcs ano'].sum(),'aprovados':fssAprovados['TPcs ano'].sum(),'condicional':fssCondicional['TPcs ano'].sum(),'desenvolvimento':fssDesenvolvimento['TPcs ano'].sum(),'perdidos':fssPerdidos['TPcs ano'].sum()}\n",
    "fssFaturamentoProjetos = {'nomeados':fssNomeados['TR$ ano'].sum(),'aprovados':fssAprovados['TR$ ano'].sum(),'condicional':fssCondicional['TR$ ano'].sum(),'desenvolvimento':fssDesenvolvimento['TR$ ano'].sum(),'perdidos':fssPerdidos['TR$ ano'].sum()}\n",
    "\n",
    "totalNumeroProjetos = {'nomeados':len(totalNomeados),'aprovados':len(totalAprovados),'condicional':len(totalCondicional),'desenvolvimento':len(totalDesenvolvimento),'perdidos':len(totalPerdidos)}\n",
    "totalVolumeProjetos = {'nomeados':totalNomeados['TPcs ano'].sum(),'aprovados':totalAprovados['TPcs ano'].sum(),'condicional':totalCondicional['TPcs ano'].sum(),'desenvolvimento':totalDesenvolvimento['TPcs ano'].sum(),'perdidos':totalPerdidos['TPcs ano'].sum()}\n",
    "totalFaturamentoProjetos = {'nomeados':totalNomeados['TR$ ano'].sum(),'aprovados':totalAprovados['TR$ ano'].sum(),'condicional':totalCondicional['TR$ ano'].sum(),'desenvolvimento':totalDesenvolvimento['TR$ ano'].sum(),'perdidos':totalPerdidos['TR$ ano'].sum()}"
   ]
  },
  {
   "cell_type": "code",
   "execution_count": null,
   "metadata": {},
   "outputs": [],
   "source": [
    "slide.range('B2').value = [value[1] for value in fatNumeroProjetos.items()]\n",
    "slide.range('B3').value = [value[1] for value in fatVolumeProjetos.items()]\n",
    "slide.range('B4').value = [value[1] for value in fatFaturamentoProjetos.items()]\n",
    "\n",
    "\n",
    "slide.range('B7').value = [value[1] for value in fssNumeroProjetos.items()]\n",
    "slide.range('B8').value = [value[1] for value in fssVolumeProjetos.items()]\n",
    "slide.range('B9').value = [value[1] for value in fssFaturamentoProjetos.items()]\n",
    "\n",
    "slide.range('B12').value = [value[1] for value in totalNumeroProjetos.items()]\n",
    "slide.range('B13').value = [value[1] for value in totalVolumeProjetos.items()]\n",
    "slide.range('B14').value = [value[1] for value in totalFaturamentoProjetos.items()]"
   ]
  },
  {
   "cell_type": "code",
   "execution_count": null,
   "metadata": {},
   "outputs": [],
   "source": []
  },
  {
   "cell_type": "code",
   "execution_count": null,
   "metadata": {},
   "outputs": [],
   "source": [
    "# slide.api.Copy(After=slide.api)\n",
    "# newSlide = pjApp.sheets['SLIDE (2)']\n",
    "# newSlide.name = f\"SLIDE(Teste)\"\n"
   ]
  },
  {
   "cell_type": "code",
   "execution_count": null,
   "metadata": {},
   "outputs": [],
   "source": [
    "# newSlide.name = f\"SLIDE(Teste)\""
   ]
  },
  {
   "cell_type": "code",
   "execution_count": null,
   "metadata": {},
   "outputs": [],
   "source": [
    "def buildSlides(engineerName=None, productGroup=None, segmento=None):\n",
    "    current = xw.apps.keys()\n",
    "    pjApp = xw.apps[current[0]].books[\"DESENVOLVIMENTO APLICACOES 2020 PEDULLA.xls\"]\n",
    "    slide = pjApp.sheets['SLIDE']\n",
    "    pj = pjApp.sheets['PROJETOS 2020']\n",
    "    \n",
    "    tabelaProjetos = pj.range('A39').options(pd.DataFrame, expand='table').value\n",
    "#     tabelaProjetos['Segmento'] != 'Export' & # Removi\n",
    "    if engineerName:\n",
    "        tabelaProjetos = tabelaProjetos[tabelaProjetos['Eng. Resp']==engineerName]\n",
    "    if productGroup:\n",
    "        tabelaProjetos = tabelaProjetos[tabelaProjetos['Class']==productGroup]\n",
    "    if segmento:\n",
    "        tabelaProjetos = tabelaProjetos[tabelaProjetos['Segmento']==segmento]\n",
    "        \n",
    "    fat = tabelaProjetos[tabelaProjetos['Div']=='FAT']\n",
    "    fss = tabelaProjetos[tabelaProjetos['Div']=='FSS']\n",
    "    total = tabelaProjetos[:]\n",
    "    \n",
    "    fatNomeados = fat[fat['Nominated ThisYear?']==1]\n",
    "    fssNomeados = fss[fss['Nominated ThisYear?']==1]\n",
    "    totalNomeados = total[total['Nominated ThisYear?']==1]\n",
    "    \n",
    "    fatAprovados = fat[fat['Pos']=='Aprov']\n",
    "    fssAprovados = fss[fss['Pos']=='Aprov']\n",
    "    totalAprovados = total[total['Pos']=='Aprov']\n",
    "    \n",
    "    fatCondicional = fat[fat['Pos']=='A. Cond']\n",
    "    fssCondicional = fss[fss['Pos']=='A. Cond']\n",
    "    totalCondicional = total[total['Pos']=='A. Cond']\n",
    "    \n",
    "    fatDesenvolvimento = fat[fat['Pos']=='Desen']\n",
    "    fssDesenvolvimento = fss[fss['Pos']=='Desen']\n",
    "    totalDesenvolvimento = total[total['Pos']=='Desen']\n",
    "    \n",
    "    fatPerdidos = fat[fat['Pos']=='Perd']\n",
    "    fssPerdidos = fss[fss['Pos']=='Perd']\n",
    "    totalPerdidos = total[total['Pos']=='Perd']\n",
    "    \n",
    "    fatNumeroProjetos = {'nomeados':len(fatNomeados),'aprovados':len(fatAprovados),'condicional':len(fatCondicional),'desenvolvimento':len(fatDesenvolvimento),'perdidos':len(fatPerdidos)}\n",
    "    fatVolumeProjetos = {'nomeados':fatNomeados['TPcs ano'].sum(),'aprovados':fatAprovados['TPcs ano'].sum(),'condicional':fatCondicional['TPcs ano'].sum(),'desenvolvimento':fatDesenvolvimento['TPcs ano'].sum(),'perdidos':fatPerdidos['TPcs ano'].sum()}\n",
    "    fatFaturamentoProjetos = {'nomeados':fatNomeados['TR$ ano'].sum(),'aprovados':fatAprovados['TR$ ano'].sum(),'condicional':fatCondicional['TR$ ano'].sum(),'desenvolvimento':fatDesenvolvimento['TR$ ano'].sum(),'perdidos':fatPerdidos['TR$ ano'].sum()}\n",
    "\n",
    "    fssNumeroProjetos = {'nomeados':len(fssNomeados),'aprovados':len(fssAprovados),'condicional':len(fssCondicional),'desenvolvimento':len(fssDesenvolvimento),'perdidos':len(fssPerdidos)}\n",
    "    fssVolumeProjetos = {'nomeados':fssNomeados['TPcs ano'].sum(),'aprovados':fssAprovados['TPcs ano'].sum(),'condicional':fssCondicional['TPcs ano'].sum(),'desenvolvimento':fssDesenvolvimento['TPcs ano'].sum(),'perdidos':fssPerdidos['TPcs ano'].sum()}\n",
    "    fssFaturamentoProjetos = {'nomeados':fssNomeados['TR$ ano'].sum(),'aprovados':fssAprovados['TR$ ano'].sum(),'condicional':fssCondicional['TR$ ano'].sum(),'desenvolvimento':fssDesenvolvimento['TR$ ano'].sum(),'perdidos':fssPerdidos['TR$ ano'].sum()}\n",
    "\n",
    "    totalNumeroProjetos = {'nomeados':len(totalNomeados),'aprovados':len(totalAprovados),'condicional':len(totalCondicional),'desenvolvimento':len(totalDesenvolvimento),'perdidos':len(totalPerdidos)}\n",
    "    totalVolumeProjetos = {'nomeados':totalNomeados['TPcs ano'].sum(),'aprovados':totalAprovados['TPcs ano'].sum(),'condicional':totalCondicional['TPcs ano'].sum(),'desenvolvimento':totalDesenvolvimento['TPcs ano'].sum(),'perdidos':totalPerdidos['TPcs ano'].sum()}\n",
    "    totalFaturamentoProjetos = {'nomeados':totalNomeados['TR$ ano'].sum(),'aprovados':totalAprovados['TR$ ano'].sum(),'condicional':totalCondicional['TR$ ano'].sum(),'desenvolvimento':totalDesenvolvimento['TR$ ano'].sum(),'perdidos':totalPerdidos['TR$ ano'].sum()}\n",
    "\n",
    "    slide.api.Copy(After=slide.api)\n",
    "    newSlide = pjApp.sheets.active\n",
    "    if engineerName:\n",
    "        newSlide.name = f\"SLIDE({ engineerName })\" \n",
    "    elif segmento:\n",
    "        newSlide.name = f\"SLIDE({ segmento })\"\n",
    "    else:\n",
    "        newSlide.name = \"SLIDE(TOTAL)\"\n",
    "        \n",
    "    newSlide.range('B2').value = [value[1] for value in fatNumeroProjetos.items()]\n",
    "    newSlide.range('B3').value = [value[1] for value in fatVolumeProjetos.items()]\n",
    "    newSlide.range('B4').value = [value[1] for value in fatFaturamentoProjetos.items()]\n",
    "\n",
    "\n",
    "    newSlide.range('B7').value = [value[1] for value in fssNumeroProjetos.items()]\n",
    "    newSlide.range('B8').value = [value[1] for value in fssVolumeProjetos.items()]\n",
    "    newSlide.range('B9').value = [value[1] for value in fssFaturamentoProjetos.items()]\n",
    "\n",
    "    newSlide.range('B12').value = [value[1] for value in totalNumeroProjetos.items()]\n",
    "    newSlide.range('B13').value = [value[1] for value in totalVolumeProjetos.items()]\n",
    "    newSlide.range('B14').value = [value[1] for value in totalFaturamentoProjetos.items()]\n",
    "    "
   ]
  },
  {
   "cell_type": "code",
   "execution_count": null,
   "metadata": {},
   "outputs": [],
   "source": [
    "engineerNames = [\"Felipe\",\"\", \"Eduardo\", \"Henrique\", \"Rafael\", \"Pedulla\", \"Ricardo\"]\n",
    "for engineer in engineerNames:\n",
    "    buildSlides(engineerName=engineer)\n",
    "# buildSlides(segmento='EXPORT')"
   ]
  },
  {
   "cell_type": "code",
   "execution_count": null,
   "metadata": {},
   "outputs": [],
   "source": [
    "fmg= tabelaProjetos[tabelaProjetos['Eng. Resp']=='Felipe']"
   ]
  },
  {
   "cell_type": "code",
   "execution_count": null,
   "metadata": {},
   "outputs": [],
   "source": [
    "fmg"
   ]
  },
  {
   "cell_type": "markdown",
   "metadata": {},
   "source": [
    "tabelaProjetos"
   ]
  },
  {
   "cell_type": "code",
   "execution_count": null,
   "metadata": {},
   "outputs": [],
   "source": [
    "tabelaProjetos"
   ]
  },
  {
   "cell_type": "code",
   "execution_count": null,
   "metadata": {},
   "outputs": [],
   "source": []
  }
 ],
 "metadata": {
  "kernelspec": {
   "display_name": "Python 3",
   "language": "python",
   "name": "python3"
  },
  "language_info": {
   "codemirror_mode": {
    "name": "ipython",
    "version": 3
   },
   "file_extension": ".py",
   "mimetype": "text/x-python",
   "name": "python",
   "nbconvert_exporter": "python",
   "pygments_lexer": "ipython3",
   "version": "3.7.9"
  }
 },
 "nbformat": 4,
 "nbformat_minor": 4
}
